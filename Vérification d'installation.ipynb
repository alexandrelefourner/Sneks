{
 "cells": [
  {
   "cell_type": "markdown",
   "metadata": {},
   "source": [
    "# Vérification de l'installation de Pytorch"
   ]
  },
  {
   "cell_type": "code",
   "execution_count": null,
   "metadata": {},
   "outputs": [],
   "source": [
    "try:\n",
    "    import numpy as np\n",
    "    a = np.random.rand()\n",
    "    b = np.random.rand()\n",
    "    c = a + b\n",
    "    print(\"Numpy a été installé correctement.\")\n",
    "except:\n",
    "    print(\"Numpy n'a pas été installé correctement.\\n\\nUtilisez la commande suivante:\\npip3 install numpy\")"
   ]
  },
  {
   "cell_type": "code",
   "execution_count": null,
   "metadata": {},
   "outputs": [],
   "source": [
    "from __future__ import print_function\n",
    "try:\n",
    "    import torch\n",
    "    x = torch.rand(5, 3)\n",
    "    y = torch.rand(5, 3)\n",
    "    z = x + y\n",
    "    print(\"L'installation de Pytorch a été effectuée correctement.\")\n",
    "except:\n",
    "    print(\"Pytorch n'a pas correctement été installé.\\n\\nUtilisez la commande suivante:\\npip3 install torch==1.3.0+cpu torchvision==0.4.1+cpu -f https://download.pytorch.org/whl/torch_stable.html\")"
   ]
  },
  {
   "cell_type": "code",
   "execution_count": null,
   "metadata": {},
   "outputs": [],
   "source": [
    "try:\n",
    "    import matplotlib.pyplot as plt\n",
    "    v = [i for i in range(10)]\n",
    "    plt.plot(v);\n",
    "    plt.show();\n",
    "    print(\"Matplotlib a bien été installé.\")\n",
    "except:\n",
    "    print(\"Erreur lors de l'installation de Matplotlib.\\nhttps://matplotlib.org/3.1.1/users/installing.html\")"
   ]
  }
 ],
 "metadata": {
  "kernelspec": {
   "display_name": "Python 3",
   "language": "python",
   "name": "python3"
  },
  "language_info": {
   "codemirror_mode": {
    "name": "ipython",
    "version": 3
   },
   "file_extension": ".py",
   "mimetype": "text/x-python",
   "name": "python",
   "nbconvert_exporter": "python",
   "pygments_lexer": "ipython3",
   "version": "3.6.8"
  }
 },
 "nbformat": 4,
 "nbformat_minor": 2
}
